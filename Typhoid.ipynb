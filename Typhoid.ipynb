{
  "cells": [
    {
      "cell_type": "code",
      "execution_count": 1,
      "metadata": {
        "id": "o5Yd0o79OuBJ"
      },
      "outputs": [],
      "source": [
        "import pandas as pd\n",
        "from sklearn.preprocessing import StandardScaler\n",
        "import matplotlib.pyplot as plt\n",
        "import seaborn as sns\n",
        "from sklearn.model_selection import train_test_split\n",
        "from sklearn.metrics import classification_report, confusion_matrix, accuracy_score\n",
        "from sklearn.preprocessing import OneHotEncoder, StandardScaler\n",
        "from sklearn.compose import ColumnTransformer\n",
        "from sklearn.pipeline import Pipeline\n",
        "from sklearn.preprocessing import LabelEncoder\n",
        "from sklearn.linear_model import LogisticRegression\n",
        "from sklearn.impute import SimpleImputer"
      ]
    },
    {
      "cell_type": "code",
      "execution_count": 2,
      "metadata": {
        "id": "CBqLYx6-mZrl"
      },
      "outputs": [],
      "source": [
        "df = pd.read_csv(\"/content/Typhoid_dataset.csv\")"
      ]
    },
    {
      "cell_type": "code",
      "execution_count": 3,
      "metadata": {
        "id": "AqK_a40rmaar"
      },
      "outputs": [],
      "source": [
        "df = df.drop(columns=['Age', 'Gastrointestinal Symptoms','Neurological Symptoms', 'Complications', 'Ongoing Infection in Society', 'Gender','Widal Test'])"
      ]
    },
    {
      "cell_type": "code",
      "execution_count": 4,
      "metadata": {
        "colab": {
          "base_uri": "https://localhost:8080/",
          "height": 17
        },
        "id": "lf6zUvDxZN6u",
        "outputId": "c2280a46-fd9e-47e6-e7a4-a5e1fed1cbe3"
      },
      "outputs": [
        {
          "data": {
            "application/javascript": "\n    async function download(id, filename, size) {\n      if (!google.colab.kernel.accessAllowed) {\n        return;\n      }\n      const div = document.createElement('div');\n      const label = document.createElement('label');\n      label.textContent = `Downloading \"${filename}\": `;\n      div.appendChild(label);\n      const progress = document.createElement('progress');\n      progress.max = size;\n      div.appendChild(progress);\n      document.body.appendChild(div);\n\n      const buffers = [];\n      let downloaded = 0;\n\n      const channel = await google.colab.kernel.comms.open(id);\n      // Send a message to notify the kernel that we're ready.\n      channel.send({})\n\n      for await (const message of channel.messages) {\n        // Send a message to notify the kernel that we're ready.\n        channel.send({})\n        if (message.buffers) {\n          for (const buffer of message.buffers) {\n            buffers.push(buffer);\n            downloaded += buffer.byteLength;\n            progress.value = downloaded;\n          }\n        }\n      }\n      const blob = new Blob(buffers, {type: 'application/binary'});\n      const a = document.createElement('a');\n      a.href = window.URL.createObjectURL(blob);\n      a.download = filename;\n      div.appendChild(a);\n      a.click();\n      div.remove();\n    }\n  ",
            "text/plain": [
              "<IPython.core.display.Javascript object>"
            ]
          },
          "metadata": {},
          "output_type": "display_data"
        },
        {
          "data": {
            "application/javascript": "download(\"download_93eaf2cf-cd11-4ac4-a846-186dc29fe12c\", \"pp_Typhoid_data.csv\", 3821379)",
            "text/plain": [
              "<IPython.core.display.Javascript object>"
            ]
          },
          "metadata": {},
          "output_type": "display_data"
        }
      ],
      "source": [
        "df.to_csv('pp_Typhoid_data.csv', index=False)\n",
        "from google.colab import files\n",
        "files.download('pp_Typhoid_data.csv')"
      ]
    },
    {
      "cell_type": "code",
      "execution_count": 5,
      "metadata": {
        "id": "UA2zUACmHTQC"
      },
      "outputs": [],
      "source": [
        "X = df.drop('Typhoid Status', axis=1)\n",
        "y = df['Typhoid Status']"
      ]
    },
    {
      "cell_type": "code",
      "execution_count": 6,
      "metadata": {
        "id": "UMMnWUaRUaaP"
      },
      "outputs": [],
      "source": [
        "le = LabelEncoder()\n",
        "y_encoded = le.fit_transform(y)\n"
      ]
    },
    {
      "cell_type": "code",
      "execution_count": 7,
      "metadata": {
        "id": "-vnkAnkgUf74"
      },
      "outputs": [],
      "source": [
        "categorical_cols = ['Previous History of Typhoid','Typhoid Vaccination Status','Blood Culture Result',\n",
        "                   'Skin Manifestations','Sanitation Facilities','Hand Hygiene','Consumption of Street Food',\n",
        "                   'Location', 'Socioeconomic Status', 'Water Source Type', 'Typhidot Test','Weather Condition']\n",
        "numerical_cols = ['Fever Duration (Days)', 'White Blood Cell Count', 'Platelet Count']\n",
        "\n"
      ]
    },
    {
      "cell_type": "code",
      "execution_count": 8,
      "metadata": {
        "id": "Mv3vPTkKsv-Q"
      },
      "outputs": [],
      "source": [
        "preprocessor = ColumnTransformer(\n",
        "    transformers=[\n",
        "        ('num', Pipeline([\n",
        "            ('imputer', SimpleImputer(strategy='mean')),\n",
        "            ('scaler', StandardScaler())\n",
        "        ]), numerical_cols),\n",
        "\n",
        "        ('cat', Pipeline([\n",
        "            ('imputer', SimpleImputer(strategy='most_frequent')),\n",
        "            ('encoder', OneHotEncoder(handle_unknown='ignore'))\n",
        "        ]), categorical_cols)\n",
        "    ]\n",
        ")"
      ]
    },
    {
      "cell_type": "code",
      "execution_count": 9,
      "metadata": {
        "id": "mQvt4SNOJZJa"
      },
      "outputs": [],
      "source": [
        "pipeline= Pipeline([\n",
        "    ('preprocessing', preprocessor),\n",
        "    ('classifier', LogisticRegression(multi_class='multinomial', solver='lbfgs', max_iter=1000))\n",
        "])"
      ]
    },
    {
      "cell_type": "code",
      "execution_count": null,
      "metadata": {},
      "outputs": [],
      "source": [
        "joblib.dump(pipeline, 'typhoid_model.pkl')"
      ]
    },
    {
      "cell_type": "code",
      "execution_count": 10,
      "metadata": {
        "colab": {
          "base_uri": "https://localhost:8080/"
        },
        "id": "I7UqK169U_OR",
        "outputId": "bc1314ff-82b2-437c-85ec-8d8bc65c8b51"
      },
      "outputs": [
        {
          "name": "stdout",
          "output_type": "stream",
          "text": [
            "<class 'pandas.core.frame.DataFrame'>\n",
            "RangeIndex: 31087 entries, 0 to 31086\n",
            "Data columns (total 16 columns):\n",
            " #   Column                       Non-Null Count  Dtype \n",
            "---  ------                       --------------  ----- \n",
            " 0   Location                     31087 non-null  object\n",
            " 1   Socioeconomic Status         31087 non-null  object\n",
            " 2   Water Source Type            31087 non-null  object\n",
            " 3   Sanitation Facilities        31087 non-null  object\n",
            " 4   Hand Hygiene                 31087 non-null  object\n",
            " 5   Consumption of Street Food   31087 non-null  object\n",
            " 6   Fever Duration (Days)        31087 non-null  int64 \n",
            " 7   Skin Manifestations          31087 non-null  object\n",
            " 8   White Blood Cell Count       31087 non-null  int64 \n",
            " 9   Platelet Count               31087 non-null  int64 \n",
            " 10  Blood Culture Result         31087 non-null  object\n",
            " 11  Typhidot Test                31087 non-null  object\n",
            " 12  Typhoid Vaccination Status   31087 non-null  object\n",
            " 13  Previous History of Typhoid  31087 non-null  object\n",
            " 14  Weather Condition            31087 non-null  object\n",
            " 15  Typhoid Status               31087 non-null  object\n",
            "dtypes: int64(3), object(13)\n",
            "memory usage: 3.8+ MB\n"
          ]
        }
      ],
      "source": [
        "df.info()"
      ]
    },
    {
      "cell_type": "code",
      "execution_count": 11,
      "metadata": {
        "colab": {
          "base_uri": "https://localhost:8080/"
        },
        "id": "M6KahY6vUwWJ",
        "outputId": "aa2d3f80-04c0-4174-9e3c-1f93d33bcac0"
      },
      "outputs": [
        {
          "name": "stderr",
          "output_type": "stream",
          "text": [
            "/usr/local/lib/python3.11/dist-packages/sklearn/linear_model/_logistic.py:1247: FutureWarning: 'multi_class' was deprecated in version 1.5 and will be removed in 1.7. From then on, it will always use 'multinomial'. Leave it to its default value to avoid this warning.\n",
            "  warnings.warn(\n"
          ]
        }
      ],
      "source": [
        "X_train, X_test, y_train, y_test = train_test_split(X, y_encoded, test_size=0.2, random_state=42)\n",
        "\n",
        "\n",
        "pipeline.fit(X_train, y_train)\n",
        "\n",
        "\n",
        "y_pred = pipeline.predict(X_test)"
      ]
    },
    {
      "cell_type": "code",
      "execution_count": 12,
      "metadata": {
        "colab": {
          "base_uri": "https://localhost:8080/"
        },
        "id": "2S0xt78TKa1x",
        "outputId": "33a16bea-974d-45dc-98ef-8c3bbca57ed8"
      },
      "outputs": [
        {
          "name": "stdout",
          "output_type": "stream",
          "text": [
            "Accuracy: 0.9197491154712126\n",
            "Confusion Matrix:\n",
            " [[1085    0    0    0]\n",
            " [   0  253    0    0]\n",
            " [   0    0 4381    0]\n",
            " [ 499    0    0    0]]\n",
            "Classification Report:\n",
            "               precision    recall  f1-score   support\n",
            "\n",
            "           0       0.68      1.00      0.81      1085\n",
            "           1       1.00      1.00      1.00       253\n",
            "           2       1.00      1.00      1.00      4381\n",
            "           3       0.00      0.00      0.00       499\n",
            "\n",
            "    accuracy                           0.92      6218\n",
            "   macro avg       0.67      0.75      0.70      6218\n",
            "weighted avg       0.86      0.92      0.89      6218\n",
            "\n"
          ]
        },
        {
          "name": "stderr",
          "output_type": "stream",
          "text": [
            "/usr/local/lib/python3.11/dist-packages/sklearn/metrics/_classification.py:1565: UndefinedMetricWarning: Precision is ill-defined and being set to 0.0 in labels with no predicted samples. Use `zero_division` parameter to control this behavior.\n",
            "  _warn_prf(average, modifier, f\"{metric.capitalize()} is\", len(result))\n",
            "/usr/local/lib/python3.11/dist-packages/sklearn/metrics/_classification.py:1565: UndefinedMetricWarning: Precision is ill-defined and being set to 0.0 in labels with no predicted samples. Use `zero_division` parameter to control this behavior.\n",
            "  _warn_prf(average, modifier, f\"{metric.capitalize()} is\", len(result))\n",
            "/usr/local/lib/python3.11/dist-packages/sklearn/metrics/_classification.py:1565: UndefinedMetricWarning: Precision is ill-defined and being set to 0.0 in labels with no predicted samples. Use `zero_division` parameter to control this behavior.\n",
            "  _warn_prf(average, modifier, f\"{metric.capitalize()} is\", len(result))\n"
          ]
        }
      ],
      "source": [
        "print(\"Accuracy:\", accuracy_score(y_test, y_pred))\n",
        "print(\"Confusion Matrix:\\n\", confusion_matrix(y_test, y_pred))\n",
        "print(\"Classification Report:\\n\", classification_report(y_test, y_pred))"
      ]
    }
  ],
  "metadata": {
    "colab": {
      "provenance": []
    },
    "kernelspec": {
      "display_name": "base",
      "language": "python",
      "name": "python3"
    },
    "language_info": {
      "codemirror_mode": {
        "name": "ipython",
        "version": 3
      },
      "file_extension": ".py",
      "mimetype": "text/x-python",
      "name": "python",
      "nbconvert_exporter": "python",
      "pygments_lexer": "ipython3",
      "version": "3.12.7"
    }
  },
  "nbformat": 4,
  "nbformat_minor": 0
}
